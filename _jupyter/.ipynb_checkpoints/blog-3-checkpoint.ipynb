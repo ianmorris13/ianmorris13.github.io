{
 "cells": [
  {
   "cell_type": "markdown",
   "metadata": {},
   "source": [
    "In this blog post, I will demonstrate webscraping using the scrapy package. We will be taking all of the actors of my favorite TV show, Narcos: Mexico, and attempt to recommend shows based on how many actors from the orginal show the new shows share. "
   ]
  },
  {
   "cell_type": "markdown",
   "metadata": {},
   "source": [
    "## Webscraping\n",
    "Webscraping is a powerful tool that makes it easy to 'scrape' information off of a website in which the data that you want is not in a format that is easy to recieve. I will demostrate my method of recieving the shows that all the actors of Narcos: Mexico have been on, and visualizing that in an attractive plot."
   ]
  },
  {
   "cell_type": "markdown",
   "metadata": {},
   "source": [
    "### The parse Function"
   ]
  },
  {
   "cell_type": "markdown",
   "metadata": {},
   "source": [
    "The parse function will utilize the starting url (in our case it is the home page for Narcos: Mexico on IMBD). It will then navigate to the Cast & Crew page so we can see every actor that appeared in this series. The comments in the function will walk through this in more detail."
   ]
  },
  {
   "cell_type": "code",
   "execution_count": 4,
   "metadata": {},
   "outputs": [],
   "source": [
    "def parse(self, response):\n",
    "    '''\n",
    "    Redirect scraper to webpage of full cast and crew of desired TV show \n",
    "    (under assumption you start on the TV Show's main IMDB page)\n",
    "\n",
    "    @param self\n",
    "    @param response: represents the website\n",
    "    @yield: redirection to full cast and crew site\n",
    "    '''\n",
    "    \n",
    "    #find where there is a hyperlink on the subgroup titled \"Top Cast\"\n",
    "    topCst = response.css(\"div.ipc-title__wrapper a\").attrib[\"href\"] \n",
    "\n",
    "    #if it exists, take that link embedded in the hyperlink and\n",
    "    #redirect scraper there\n",
    "    if topCst:\n",
    "        topCst = response.urljoin(topCst)\n",
    "\n",
    "        yield scrapy.Request(topCst, callback = self.parse_full_credits)"
   ]
  },
  {
   "cell_type": "markdown",
   "metadata": {},
   "source": [
    "### The parse_full_credits Function"
   ]
  },
  {
   "cell_type": "markdown",
   "metadata": {},
   "source": [
    "The parse_full_credits function works only if it is called on the Cast & Crew page. It will go through the page and redirect through to each actor's main page. The comments in the function will walk through this in more detail."
   ]
  },
  {
   "cell_type": "code",
   "execution_count": 5,
   "metadata": {},
   "outputs": [],
   "source": [
    "    def parse_full_credits(self, response):\n",
    "        '''\n",
    "        Redirect sraper to actor's main webpage of each actor selected\n",
    "\n",
    "        @param self\n",
    "        @param response: represents the website\n",
    "        @yield: redirection to actor main webpage\n",
    "        '''\n",
    "\n",
    "        #put actor name/ hyperlink in a list for all actors in the full cast and crew\n",
    "        actLst = [a.attrib[\"href\"] for a in response.css(\"td.primary_photo a\")]\n",
    "\n",
    "        #redirect to the actor page for each actor in the list\n",
    "        for actor in actLst:\n",
    "            actrPg = response.urljoin(actor)\n",
    "            yield scrapy.Request(actrPg, callback = self.parse_actor_page) "
   ]
  },
  {
   "cell_type": "markdown",
   "metadata": {},
   "source": [
    "### The parse_actor_page Function"
   ]
  },
  {
   "cell_type": "markdown",
   "metadata": {},
   "source": [
    "The parse_actor_page function will only work if it is called on the actor's main webpage. It will yield a dictionary of the actor's name and every show that they have appeared in. The comments in the function will walk through this in more detail."
   ]
  },
  {
   "cell_type": "code",
   "execution_count": 7,
   "metadata": {},
   "outputs": [],
   "source": [
    "    def parse_actor_page(self, response):\n",
    "        '''\n",
    "        Add to dictionary of every actor and every work they have acted in \n",
    "\n",
    "        @param self\n",
    "        @param response: represents the website        \n",
    "        @yield: adds dictionary  names and the works they have appeared in\n",
    "        '''\n",
    "\n",
    "        #grab the actors name\n",
    "        actNam = response.css('title::text').get()[0:-7]\n",
    "        \n",
    "        #list of every work they have been apart of (producing, acting, etc...)\n",
    "        flmLst = response.xpath(\"//*[@class='filmo-category-section']/div/b/a/text()\").extract()\n",
    "        \n",
    "        #take the number of acting credits they have from 'Acting' tab\n",
    "        #try with 'actor' tag, if that doesn't work, try with 'actress'\n",
    "        #this depends on the individuals webpage\n",
    "        try:\n",
    "            actNum = int(response.xpath(\"//*[@id='filmo-head-actor']/text()\").extract()[-1][2:-10])\n",
    "        except:\n",
    "            actNum = int(response.xpath(\"//*[@id='filmo-head-actress']/text()\").extract()[-1][2:-10])\n",
    "\n",
    "        #takes only the first actNum of works they been in, because this is the works they have acted in\n",
    "        actLst = flmLst[:actNum]\n",
    "\n",
    "        #yeild dictionary of the actors and a list of all their works\n",
    "        yield {\"actor\" : actNam, \"movie_or_TV_name\" : actLst}        "
   ]
  },
  {
   "cell_type": "markdown",
   "metadata": {},
   "source": [
    "## Data Visualization"
   ]
  },
  {
   "cell_type": "markdown",
   "metadata": {},
   "source": [
    "To show that this works, we can put a little bar graph together that shows that our web scraping has worked."
   ]
  },
  {
   "cell_type": "markdown",
   "metadata": {},
   "source": [
    "First, we'll see how the top 20 choices fair against each other..."
   ]
  },
  {
   "cell_type": "markdown",
   "metadata": {},
   "source": [
    "![sharedActors1.png](/images/sharedActors1.png)"
   ]
  },
  {
   "cell_type": "markdown",
   "metadata": {},
   "source": [
    "Well, I guess I should have seen that coming... Of course the most shared show is the one that they were all on! Let's exclude that and look again."
   ]
  },
  {
   "cell_type": "markdown",
   "metadata": {},
   "source": [
    "![sharedActors2.png](/images/sharedActors2.png)"
   ]
  },
  {
   "cell_type": "markdown",
   "metadata": {},
   "source": [
    "Much better! We know now that our algorithm recommends... Como dice el Dicho? y La Rosa de Guadelupe? I mean I guess it makes sense that they have been on telenovellas together. Mexican soap operas run constantly and for a long time, so statistically it makes plenty o' sense."
   ]
  },
  {
   "cell_type": "markdown",
   "metadata": {},
   "source": [
    "And with that realization, we now know how to webscrape using scrapy!"
   ]
  }
 ],
 "metadata": {
  "interpreter": {
   "hash": "aef2ad4d57fa666ceb749ecd3c871c87bb6bf49d03a66e4137623469e0d5adb5"
  },
  "kernelspec": {
   "display_name": "Python 3 (ipykernel)",
   "language": "python",
   "name": "python3"
  },
  "language_info": {
   "codemirror_mode": {
    "name": "ipython",
    "version": 3
   },
   "file_extension": ".py",
   "mimetype": "text/x-python",
   "name": "python",
   "nbconvert_exporter": "python",
   "pygments_lexer": "ipython3",
   "version": "3.9.7"
  }
 },
 "nbformat": 4,
 "nbformat_minor": 2
}
