{
 "cells": [
  {
   "cell_type": "markdown",
   "id": "19784992",
   "metadata": {},
   "source": [
    "# Web Development\n",
    "\n",
    "In this blog post, I will show you how to create a webapp using Flask. The app will take in a user submitted message and their handler into a database. In addition, we will be able to view a sample of the messages by pulling from the database."
   ]
  },
  {
   "cell_type": "markdown",
   "id": "88e31235",
   "metadata": {},
   "source": [
    "## Python Functions\n",
    "\n",
    "There are five functions that I used in the creation of this web app. "
   ]
  },
  {
   "cell_type": "markdown",
   "id": "dbd97ad9",
   "metadata": {},
   "source": [
    "### 1\n",
    "The overall function of get_message_db() is to make sure there is a table 'messages' in a database 'message_db' and a connection to this database. This will ensure that we can later modify the database in future functions."
   ]
  },
  {
   "cell_type": "code",
   "execution_count": 1,
   "id": "cac89ed0",
   "metadata": {},
   "outputs": [],
   "source": [
    "def get_message_db():\n",
    "\n",
    "    #Checks whether there is a database called message_db in the g attribute of the app\n",
    "    if 'message_db' not in g:\n",
    "        g.message_db = sqlite3.connect('message_db.sqlite')\n",
    "        \n",
    "    #Checks whether a table called messages exists in message_db, \n",
    "    #and creates it if not. Gives the columns id, handle, and message\n",
    "    g.message_db.execute(   '''\n",
    "                            CREATE TABLE IF NOT EXISTS messages \n",
    "                            (id INTEGER, handle TEXT, message TEXT);\n",
    "                            ''')\n",
    "    #returns the connection to the database\n",
    "    return g.message_db"
   ]
  },
  {
   "cell_type": "markdown",
   "id": "783b9fdd",
   "metadata": {},
   "source": [
    "### 2\n",
    "The insert_message(request) function will take in request as a parameter. Request is a built in object of the Flask library. Its built in attributes make it easy to extract user submitted data from a POST form. It will take this extracted data, which is the user's message and handle, and then submit it into the previously made database."
   ]
  },
  {
   "cell_type": "code",
   "execution_count": 2,
   "id": "a2ff4594",
   "metadata": {},
   "outputs": [],
   "source": [
    "def insert_message(request):\n",
    "\n",
    "    #extracts the message and handle from the post request\n",
    "    #ie. assigns the user's submission to variables \n",
    "    mVal = request.form[\"mess\"]\n",
    "    hVal = request.form[\"user\"]\n",
    "\n",
    "    #assigns database connection to variable\n",
    "    db = get_message_db()\n",
    "\n",
    "    #will find length of table in database\n",
    "    count = db.execute(\"SELECT COUNT(*) FROM messages;\")\n",
    "    #add one to length of table to ensure every submission has a unique id\n",
    "    iVal = int(count.fetchall()[0][0]) + 1\n",
    "    #assign previous variables to each sequential column in database\n",
    "    db.execute('INSERT INTO messages (id, handle, message) VALUES (?, ?, ?)',\n",
    "                (iVal, hVal, mVal))\n",
    "    #saves your varibles into database\n",
    "    db.commit()\n",
    "    #close connection to database\n",
    "    db.close()\n",
    "\n",
    "    return "
   ]
  },
  {
   "cell_type": "markdown",
   "id": "b461dea8",
   "metadata": {},
   "source": [
    "### 3\n",
    "This function will allow the url \".../submit/\" to display the html template with the added variables that I will go through below. It will give tangible proof of the functions from above."
   ]
  },
  {
   "cell_type": "code",
   "execution_count": 1,
   "id": "067aef51",
   "metadata": {},
   "outputs": [],
   "source": [
    "#route this function to the url \".../submit/\" w/ both POST and GET methods usable\n",
    "@app.route('/submit/', methods=['POST', 'GET'])\n",
    "def submit():\n",
    "    if request.method == 'GET':\n",
    "        #this will render the base templete submit.html to the website when there has not been a post method submitted\n",
    "        return render_template('submit.html')\n",
    "    else:\n",
    "        #try to extract the user submission and upload it into the database\n",
    "        try:\n",
    "            insert_message(request)\n",
    "            return render_template('submit.html', thanks = True)\n",
    "        #if fails, shows a message on the base template saying there was an error\n",
    "        except:\n",
    "            return render_template('submit.html', error = True)"
   ]
  },
  {
   "cell_type": "markdown",
   "id": "1b1d6ac5",
   "metadata": {},
   "source": [
    "### 4\n",
    "This function will take a parameter n, which is the max number of messgaes and their handles extracted from the database that it shall return. This will make it possible that there is a list of messages and handles that can be displayed on the website."
   ]
  },
  {
   "cell_type": "code",
   "execution_count": null,
   "id": "8ede72a9",
   "metadata": {},
   "outputs": [],
   "source": [
    "def random_messages(n):\n",
    "\n",
    "    #connect to the database\n",
    "    db = get_message_db()\n",
    "    \n",
    "    #extract a randomized list containing 5 random messages and their handles\n",
    "    id = db.execute('''\n",
    "                    SELECT message, handle FROM messages \n",
    "                    ORDER BY RANDOM() LIMIT (?);\n",
    "                    ''', (n,))\n",
    "    idFetch = id.fetchall()\n",
    "\n",
    "    #close the database\n",
    "    db.close()\n",
    "\n",
    "    #return list of tuples of all the messages and their handles\n",
    "    return idFetch"
   ]
  },
  {
   "cell_type": "markdown",
   "id": "2a68fdd7",
   "metadata": {},
   "source": [
    "### 5\n",
    "This last function will allow the url \".../view/\" to display the html template with the added variable of the randomized messages, the final product of all the above functions"
   ]
  },
  {
   "cell_type": "code",
   "execution_count": null,
   "id": "7770f3c6",
   "metadata": {},
   "outputs": [],
   "source": [
    "#route this function to the url \".../view/\" w/ GET method only\n",
    "@app.route('/view/', methods=['GET'])\n",
    "def view():\n",
    "    try:\n",
    "        #try to extract a random number of messages (1-5) from the database\n",
    "        rNum = random.randint(1, 5)\n",
    "        mssg = random_messages(rNum)\n",
    "        #if succesful, post those messages to the template\n",
    "        return render_template('view.html', mssg = mssg)\n",
    "    except:\n",
    "        #if fails, shows a message on the base template saying there was an error\n",
    "        return render_template('view.html', error = True)"
   ]
  },
  {
   "cell_type": "markdown",
   "id": "6bf1ab8c",
   "metadata": {},
   "source": [
    "## HTML Template\n",
    "Below I will show an example of the HTML templates I referenced to in the functions explination. I will comment line by line the importance of each code."
   ]
  },
  {
   "cell_type": "code",
   "execution_count": null,
   "id": "1ede78b7",
   "metadata": {},
   "outputs": [],
   "source": [
    "#extends 'base.html' allows you to import another html file \n",
    "#this is useful since the template for base.html was used in multiple html files\n",
    "{% extends 'base.html' %}\n",
    "\n",
    "#block gives you a way to divide code into coherent groupings\n",
    "{% block header %}\n",
    "  <h1>{% block title %}Some Cool Messages{% endblock %}</h1>\n",
    "{% endblock %}\n",
    "\n",
    "{% block content %}\n",
    "\n",
    "#the if jinja operator allows for variables to be passed in from the functions that are\n",
    "#beneath the @app.route as long as the function is under the path\n",
    "{% if error %} \n",
    "#this code says that if an error exists, then print this statement and end\n",
    "<br>\n",
    "Uhhh idk what happened but an error occured sorry idk why.\n",
    "{% endif %}\n",
    "\n",
    "{% if mssg %}\n",
    "#this code says if the variable mssg exists...\n",
    "    <br>\n",
    "    #loop through each element\n",
    "    {% for m in mssg %}\n",
    "    #this section has id 'quote' to make it easy to read in CSS\n",
    "    <section id=\"quote\">\n",
    "    #this will print the 0th element of the m element of mssg\n",
    "        \"{{m[0]}}\"\n",
    "    </section>\n",
    "    #same as above\n",
    "    <section id =\"author\">\n",
    "        - {{m[1]}}<br>\n",
    "    </section>\n",
    "    <br>\n",
    "    {% endfor %}\n",
    "\n",
    "# I added this just if there was no mssg yet uploaded in the database\n",
    "# there will be a small message letting you know.\n",
    "{% else %}\n",
    "    I'm sorry, it seems there have been no messages submitted. \n",
    "    You can start by clicking submit a message.\n",
    "{% endif %}\n",
    "{% endblock %}\n"
   ]
  },
  {
   "cell_type": "markdown",
   "id": "04b4e411",
   "metadata": {},
   "source": [
    "These HTML templates make it easy to compile websites, especially when extending, as it provides ways to quickly keep a website uniform. The Jinja syntax also makes passing varibles easy to ajust websites as new imformation is presented."
   ]
  },
  {
   "cell_type": "markdown",
   "id": "73ce8477",
   "metadata": {},
   "source": [
    "## Screencaps"
   ]
  },
  {
   "cell_type": "markdown",
   "id": "8007c32b",
   "metadata": {},
   "source": [
    "![Screencap 1](/static/images/scrnshtOne.png \"Screencap 1\")\n",
    "![Screencap 2](/static/images/scrnshtTwo.png \"Screencap 2\")"
   ]
  }
 ],
 "metadata": {
  "kernelspec": {
   "display_name": "Python 3 (ipykernel)",
   "language": "python",
   "name": "python3"
  },
  "language_info": {
   "codemirror_mode": {
    "name": "ipython",
    "version": 3
   },
   "file_extension": ".py",
   "mimetype": "text/x-python",
   "name": "python",
   "nbconvert_exporter": "python",
   "pygments_lexer": "ipython3",
   "version": "3.9.7"
  }
 },
 "nbformat": 4,
 "nbformat_minor": 5
}
