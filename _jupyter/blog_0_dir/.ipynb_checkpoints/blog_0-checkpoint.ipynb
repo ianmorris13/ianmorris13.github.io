{
 "cells": [
  {
   "cell_type": "markdown",
   "metadata": {},
   "source": [
    "# Extract Data\n",
    "\n",
    "First start by extracting the data."
   ]
  },
  {
   "cell_type": "code",
   "execution_count": 3,
   "metadata": {},
   "outputs": [],
   "source": [
    "import pandas as pd\n",
    "url = \"https://raw.githubusercontent.com/PhilChodrow/PIC16B/master/datasets/palmer_penguins.csv\"\n",
    "penguins = pd.read_csv(url)"
   ]
  },
  {
   "cell_type": "markdown",
   "metadata": {},
   "source": [
    "We use .head() to see a preview of our data, ensuring we are hapy with the extraction. "
   ]
  },
  {
   "cell_type": "code",
   "execution_count": 4,
   "metadata": {},
   "outputs": [
    {
     "data": {
      "text/html": [
       "<div>\n",
       "<style scoped>\n",
       "    .dataframe tbody tr th:only-of-type {\n",
       "        vertical-align: middle;\n",
       "    }\n",
       "\n",
       "    .dataframe tbody tr th {\n",
       "        vertical-align: top;\n",
       "    }\n",
       "\n",
       "    .dataframe thead th {\n",
       "        text-align: right;\n",
       "    }\n",
       "</style>\n",
       "<table border=\"1\" class=\"dataframe\">\n",
       "  <thead>\n",
       "    <tr style=\"text-align: right;\">\n",
       "      <th></th>\n",
       "      <th>studyName</th>\n",
       "      <th>Sample Number</th>\n",
       "      <th>Species</th>\n",
       "      <th>Region</th>\n",
       "      <th>Island</th>\n",
       "      <th>Stage</th>\n",
       "      <th>Individual ID</th>\n",
       "      <th>Clutch Completion</th>\n",
       "      <th>Date Egg</th>\n",
       "      <th>Culmen Length (mm)</th>\n",
       "      <th>Culmen Depth (mm)</th>\n",
       "      <th>Flipper Length (mm)</th>\n",
       "      <th>Body Mass (g)</th>\n",
       "      <th>Sex</th>\n",
       "      <th>Delta 15 N (o/oo)</th>\n",
       "      <th>Delta 13 C (o/oo)</th>\n",
       "      <th>Comments</th>\n",
       "    </tr>\n",
       "  </thead>\n",
       "  <tbody>\n",
       "    <tr>\n",
       "      <th>0</th>\n",
       "      <td>PAL0708</td>\n",
       "      <td>1</td>\n",
       "      <td>Adelie Penguin (Pygoscelis adeliae)</td>\n",
       "      <td>Anvers</td>\n",
       "      <td>Torgersen</td>\n",
       "      <td>Adult, 1 Egg Stage</td>\n",
       "      <td>N1A1</td>\n",
       "      <td>Yes</td>\n",
       "      <td>11/11/07</td>\n",
       "      <td>39.1</td>\n",
       "      <td>18.7</td>\n",
       "      <td>181.0</td>\n",
       "      <td>3750.0</td>\n",
       "      <td>MALE</td>\n",
       "      <td>NaN</td>\n",
       "      <td>NaN</td>\n",
       "      <td>Not enough blood for isotopes.</td>\n",
       "    </tr>\n",
       "    <tr>\n",
       "      <th>1</th>\n",
       "      <td>PAL0708</td>\n",
       "      <td>2</td>\n",
       "      <td>Adelie Penguin (Pygoscelis adeliae)</td>\n",
       "      <td>Anvers</td>\n",
       "      <td>Torgersen</td>\n",
       "      <td>Adult, 1 Egg Stage</td>\n",
       "      <td>N1A2</td>\n",
       "      <td>Yes</td>\n",
       "      <td>11/11/07</td>\n",
       "      <td>39.5</td>\n",
       "      <td>17.4</td>\n",
       "      <td>186.0</td>\n",
       "      <td>3800.0</td>\n",
       "      <td>FEMALE</td>\n",
       "      <td>8.94956</td>\n",
       "      <td>-24.69454</td>\n",
       "      <td>NaN</td>\n",
       "    </tr>\n",
       "    <tr>\n",
       "      <th>2</th>\n",
       "      <td>PAL0708</td>\n",
       "      <td>3</td>\n",
       "      <td>Adelie Penguin (Pygoscelis adeliae)</td>\n",
       "      <td>Anvers</td>\n",
       "      <td>Torgersen</td>\n",
       "      <td>Adult, 1 Egg Stage</td>\n",
       "      <td>N2A1</td>\n",
       "      <td>Yes</td>\n",
       "      <td>11/16/07</td>\n",
       "      <td>40.3</td>\n",
       "      <td>18.0</td>\n",
       "      <td>195.0</td>\n",
       "      <td>3250.0</td>\n",
       "      <td>FEMALE</td>\n",
       "      <td>8.36821</td>\n",
       "      <td>-25.33302</td>\n",
       "      <td>NaN</td>\n",
       "    </tr>\n",
       "    <tr>\n",
       "      <th>3</th>\n",
       "      <td>PAL0708</td>\n",
       "      <td>4</td>\n",
       "      <td>Adelie Penguin (Pygoscelis adeliae)</td>\n",
       "      <td>Anvers</td>\n",
       "      <td>Torgersen</td>\n",
       "      <td>Adult, 1 Egg Stage</td>\n",
       "      <td>N2A2</td>\n",
       "      <td>Yes</td>\n",
       "      <td>11/16/07</td>\n",
       "      <td>NaN</td>\n",
       "      <td>NaN</td>\n",
       "      <td>NaN</td>\n",
       "      <td>NaN</td>\n",
       "      <td>NaN</td>\n",
       "      <td>NaN</td>\n",
       "      <td>NaN</td>\n",
       "      <td>Adult not sampled.</td>\n",
       "    </tr>\n",
       "    <tr>\n",
       "      <th>4</th>\n",
       "      <td>PAL0708</td>\n",
       "      <td>5</td>\n",
       "      <td>Adelie Penguin (Pygoscelis adeliae)</td>\n",
       "      <td>Anvers</td>\n",
       "      <td>Torgersen</td>\n",
       "      <td>Adult, 1 Egg Stage</td>\n",
       "      <td>N3A1</td>\n",
       "      <td>Yes</td>\n",
       "      <td>11/16/07</td>\n",
       "      <td>36.7</td>\n",
       "      <td>19.3</td>\n",
       "      <td>193.0</td>\n",
       "      <td>3450.0</td>\n",
       "      <td>FEMALE</td>\n",
       "      <td>8.76651</td>\n",
       "      <td>-25.32426</td>\n",
       "      <td>NaN</td>\n",
       "    </tr>\n",
       "  </tbody>\n",
       "</table>\n",
       "</div>"
      ],
      "text/plain": [
       "  studyName  Sample Number                              Species  Region  \\\n",
       "0   PAL0708              1  Adelie Penguin (Pygoscelis adeliae)  Anvers   \n",
       "1   PAL0708              2  Adelie Penguin (Pygoscelis adeliae)  Anvers   \n",
       "2   PAL0708              3  Adelie Penguin (Pygoscelis adeliae)  Anvers   \n",
       "3   PAL0708              4  Adelie Penguin (Pygoscelis adeliae)  Anvers   \n",
       "4   PAL0708              5  Adelie Penguin (Pygoscelis adeliae)  Anvers   \n",
       "\n",
       "      Island               Stage Individual ID Clutch Completion  Date Egg  \\\n",
       "0  Torgersen  Adult, 1 Egg Stage          N1A1               Yes  11/11/07   \n",
       "1  Torgersen  Adult, 1 Egg Stage          N1A2               Yes  11/11/07   \n",
       "2  Torgersen  Adult, 1 Egg Stage          N2A1               Yes  11/16/07   \n",
       "3  Torgersen  Adult, 1 Egg Stage          N2A2               Yes  11/16/07   \n",
       "4  Torgersen  Adult, 1 Egg Stage          N3A1               Yes  11/16/07   \n",
       "\n",
       "   Culmen Length (mm)  Culmen Depth (mm)  Flipper Length (mm)  Body Mass (g)  \\\n",
       "0                39.1               18.7                181.0         3750.0   \n",
       "1                39.5               17.4                186.0         3800.0   \n",
       "2                40.3               18.0                195.0         3250.0   \n",
       "3                 NaN                NaN                  NaN            NaN   \n",
       "4                36.7               19.3                193.0         3450.0   \n",
       "\n",
       "      Sex  Delta 15 N (o/oo)  Delta 13 C (o/oo)  \\\n",
       "0    MALE                NaN                NaN   \n",
       "1  FEMALE            8.94956          -24.69454   \n",
       "2  FEMALE            8.36821          -25.33302   \n",
       "3     NaN                NaN                NaN   \n",
       "4  FEMALE            8.76651          -25.32426   \n",
       "\n",
       "                         Comments  \n",
       "0  Not enough blood for isotopes.  \n",
       "1                             NaN  \n",
       "2                             NaN  \n",
       "3              Adult not sampled.  \n",
       "4                             NaN  "
      ]
     },
     "execution_count": 4,
     "metadata": {},
     "output_type": "execute_result"
    }
   ],
   "source": [
    "penguins.head()"
   ]
  },
  {
   "cell_type": "markdown",
   "metadata": {},
   "source": [
    "Next, we want to clean up the code to make it easier to visualize. In this example I will "
   ]
  },
  {
   "cell_type": "code",
   "execution_count": 5,
   "metadata": {},
   "outputs": [
    {
     "data": {
      "text/html": [
       "<div>\n",
       "<style scoped>\n",
       "    .dataframe tbody tr th:only-of-type {\n",
       "        vertical-align: middle;\n",
       "    }\n",
       "\n",
       "    .dataframe tbody tr th {\n",
       "        vertical-align: top;\n",
       "    }\n",
       "\n",
       "    .dataframe thead th {\n",
       "        text-align: right;\n",
       "    }\n",
       "</style>\n",
       "<table border=\"1\" class=\"dataframe\">\n",
       "  <thead>\n",
       "    <tr style=\"text-align: right;\">\n",
       "      <th></th>\n",
       "      <th>Species</th>\n",
       "      <th>Island</th>\n",
       "      <th>Sex</th>\n",
       "      <th>Culmen Length (mm)</th>\n",
       "      <th>Culmen Depth (mm)</th>\n",
       "      <th>Flipper Length (mm)</th>\n",
       "      <th>Body Mass (g)</th>\n",
       "    </tr>\n",
       "  </thead>\n",
       "  <tbody>\n",
       "    <tr>\n",
       "      <th>0</th>\n",
       "      <td>Adelie</td>\n",
       "      <td>Torgersen</td>\n",
       "      <td>MALE</td>\n",
       "      <td>39.1</td>\n",
       "      <td>18.7</td>\n",
       "      <td>181.0</td>\n",
       "      <td>3750.0</td>\n",
       "    </tr>\n",
       "    <tr>\n",
       "      <th>1</th>\n",
       "      <td>Adelie</td>\n",
       "      <td>Torgersen</td>\n",
       "      <td>FEMALE</td>\n",
       "      <td>39.5</td>\n",
       "      <td>17.4</td>\n",
       "      <td>186.0</td>\n",
       "      <td>3800.0</td>\n",
       "    </tr>\n",
       "    <tr>\n",
       "      <th>2</th>\n",
       "      <td>Adelie</td>\n",
       "      <td>Torgersen</td>\n",
       "      <td>FEMALE</td>\n",
       "      <td>40.3</td>\n",
       "      <td>18.0</td>\n",
       "      <td>195.0</td>\n",
       "      <td>3250.0</td>\n",
       "    </tr>\n",
       "    <tr>\n",
       "      <th>4</th>\n",
       "      <td>Adelie</td>\n",
       "      <td>Torgersen</td>\n",
       "      <td>FEMALE</td>\n",
       "      <td>36.7</td>\n",
       "      <td>19.3</td>\n",
       "      <td>193.0</td>\n",
       "      <td>3450.0</td>\n",
       "    </tr>\n",
       "    <tr>\n",
       "      <th>5</th>\n",
       "      <td>Adelie</td>\n",
       "      <td>Torgersen</td>\n",
       "      <td>MALE</td>\n",
       "      <td>39.3</td>\n",
       "      <td>20.6</td>\n",
       "      <td>190.0</td>\n",
       "      <td>3650.0</td>\n",
       "    </tr>\n",
       "  </tbody>\n",
       "</table>\n",
       "</div>"
      ],
      "text/plain": [
       "  Species     Island     Sex  Culmen Length (mm)  Culmen Depth (mm)  \\\n",
       "0  Adelie  Torgersen    MALE                39.1               18.7   \n",
       "1  Adelie  Torgersen  FEMALE                39.5               17.4   \n",
       "2  Adelie  Torgersen  FEMALE                40.3               18.0   \n",
       "4  Adelie  Torgersen  FEMALE                36.7               19.3   \n",
       "5  Adelie  Torgersen    MALE                39.3               20.6   \n",
       "\n",
       "   Flipper Length (mm)  Body Mass (g)  \n",
       "0                181.0         3750.0  \n",
       "1                186.0         3800.0  \n",
       "2                195.0         3250.0  \n",
       "4                193.0         3450.0  \n",
       "5                190.0         3650.0  "
      ]
     },
     "execution_count": 5,
     "metadata": {},
     "output_type": "execute_result"
    }
   ],
   "source": [
    "#Removes any row or columns with unavailable information that would make it hard to visuallize.\n",
    "penguins = penguins.dropna(subset = [\"Body Mass (g)\", \"Sex\"])\n",
    "\n",
    "#takes first name of species for readabilities sake\n",
    "penguins[\"Species\"] = penguins[\"Species\"].str.split().str.get(0)\n",
    "\n",
    "#removes those with \".\" as sex which would again ruin the visualization\n",
    "penguins = penguins[penguins[\"Sex\"] != \".\"]\n",
    "\n",
    "#drops columns that would be unreasonable to visuallize\n",
    "cols = [\"Species\", \"Island\", \"Sex\", \"Culmen Length (mm)\", \"Culmen Depth (mm)\", \"Flipper Length (mm)\", \"Body Mass (g)\"]\n",
    "penguins = penguins[cols]\n",
    "\n",
    "#admire new dataset\n",
    "penguins.head()"
   ]
  },
  {
   "cell_type": "markdown",
   "metadata": {},
   "source": [
    "How pretty :^)"
   ]
  },
  {
   "cell_type": "markdown",
   "metadata": {},
   "source": [
    "To make things easier to plot we can seperate the categorical and quantifiable data."
   ]
  },
  {
   "cell_type": "code",
   "execution_count": 6,
   "metadata": {},
   "outputs": [
    {
     "name": "stdout",
     "output_type": "stream",
     "text": [
      "Empty DataFrame\n",
      "Columns: []\n",
      "Index: [(32.1, 15.5, 188.0, 3050.0), (33.1, 16.1, 178.0, 2900.0), (33.5, 19.0, 190.0, 3600.0), (34.0, 17.1, 185.0, 3400.0), (34.4, 18.4, 184.0, 3325.0), (34.5, 18.1, 187.0, 2900.0), (34.6, 17.2, 189.0, 3200.0), (34.6, 21.1, 198.0, 4400.0), (35.0, 17.9, 190.0, 3450.0), (35.0, 17.9, 192.0, 3725.0), (35.1, 19.4, 193.0, 4200.0), (35.2, 15.9, 186.0, 3050.0), (35.3, 18.9, 187.0, 3800.0), (35.5, 16.2, 195.0, 3350.0), (35.5, 17.5, 190.0, 3700.0), (35.6, 17.5, 191.0, 3175.0), (35.7, 16.9, 185.0, 3150.0), (35.7, 17.0, 189.0, 3350.0), (35.7, 18.0, 202.0, 3550.0), (35.9, 16.6, 190.0, 3050.0), (35.9, 19.2, 189.0, 3800.0), (36.0, 17.1, 187.0, 3700.0), (36.0, 17.8, 195.0, 3450.0), (36.0, 17.9, 190.0, 3450.0), (36.0, 18.5, 186.0, 3100.0), (36.2, 16.1, 187.0, 3550.0), (36.2, 17.2, 187.0, 3150.0), (36.2, 17.3, 187.0, 3300.0), (36.3, 19.5, 190.0, 3800.0), (36.4, 17.0, 195.0, 3325.0), (36.4, 17.1, 184.0, 2850.0), (36.5, 16.6, 181.0, 2850.0), (36.5, 18.0, 182.0, 3150.0), (36.6, 17.8, 185.0, 3700.0), (36.6, 18.4, 184.0, 3475.0), (36.7, 18.8, 187.0, 3800.0), (36.7, 19.3, 193.0, 3450.0), (36.8, 18.5, 193.0, 3500.0), (36.9, 18.6, 189.0, 3500.0), (37.0, 16.5, 185.0, 3400.0), (37.0, 16.9, 185.0, 3000.0), (37.2, 18.1, 178.0, 3900.0), (37.2, 19.4, 184.0, 3900.0), (37.3, 16.8, 192.0, 3000.0), (37.3, 17.8, 191.0, 3350.0), (37.3, 20.5, 199.0, 3775.0), (37.5, 18.5, 199.0, 4475.0), (37.6, 17.0, 185.0, 3600.0), (37.6, 19.1, 194.0, 3750.0), (37.6, 19.3, 181.0, 3300.0), (37.7, 16.0, 183.0, 3075.0), (37.7, 18.7, 180.0, 3600.0), (37.7, 19.8, 198.0, 3500.0), (37.8, 18.1, 193.0, 3750.0), (37.8, 18.3, 174.0, 3400.0), (37.8, 20.0, 190.0, 4250.0), (37.9, 18.6, 172.0, 3150.0), (37.9, 18.6, 193.0, 2925.0), (38.1, 16.5, 198.0, 3825.0), (38.1, 17.0, 181.0, 3175.0), (38.1, 17.6, 187.0, 3425.0), (38.1, 18.6, 190.0, 3700.0), (38.2, 18.1, 185.0, 3950.0), (38.2, 20.0, 190.0, 3900.0), (38.3, 19.2, 189.0, 3950.0), (38.5, 17.9, 190.0, 3325.0), (38.6, 17.0, 188.0, 2900.0), (38.6, 17.2, 199.0, 3750.0), (38.6, 21.2, 191.0, 3800.0), (38.7, 19.0, 195.0, 3450.0), (38.8, 17.2, 180.0, 3800.0), (38.8, 17.6, 191.0, 3275.0), (38.8, 20.0, 190.0, 3950.0), (38.9, 17.8, 181.0, 3625.0), (38.9, 18.8, 190.0, 3600.0), (39.0, 17.1, 191.0, 3050.0), (39.0, 17.5, 186.0, 3550.0), (39.0, 18.7, 185.0, 3650.0), (39.1, 18.7, 181.0, 3750.0), (39.2, 18.6, 190.0, 4250.0), (39.2, 19.6, 195.0, 4675.0), (39.2, 21.1, 196.0, 4150.0), (39.3, 20.6, 190.0, 3650.0), (39.5, 16.7, 178.0, 3250.0), (39.5, 17.4, 186.0, 3800.0), (39.5, 17.8, 188.0, 3300.0), (39.6, 17.2, 196.0, 3550.0), (39.6, 17.7, 186.0, 3500.0), (39.6, 18.1, 186.0, 4450.0), (39.6, 18.8, 190.0, 4600.0), (39.6, 20.7, 191.0, 3900.0), (39.7, 17.7, 193.0, 3200.0), (39.7, 17.9, 193.0, 4250.0), (39.7, 18.4, 190.0, 3900.0), (39.7, 18.9, 184.0, 3550.0), (39.8, 19.1, 184.0, 4650.0), (40.1, 18.9, 188.0, 4300.0), (40.2, 17.0, 176.0, 3450.0), (40.2, 17.1, 193.0, 3400.0), (40.2, 20.1, 200.0, 3975.0), ...]\n",
      "\n",
      "[333 rows x 0 columns]\n"
     ]
    },
    {
     "name": "stderr",
     "output_type": "stream",
     "text": [
      "C:\\Users\\ianm2\\AppData\\Local\\Temp/ipykernel_21540/4036385868.py:7: FutureWarning: Dropping invalid columns in DataFrameGroupBy.mean is deprecated. In a future version, a TypeError will be raised. Before calling .mean, select only columns which should be valid for the function.\n",
      "  print(summary_table(qwn, cat))\n"
     ]
    }
   ],
   "source": [
    "qwn = [\"Culmen Length (mm)\", \"Culmen Depth (mm)\", \"Flipper Length (mm)\", \"Body Mass (g)\"]\n",
    "cat = [\"Species\", \"Island\", \"Sex\"]\n",
    "\n",
    "def summary_table(group_cols, value_cols):\n",
    "    return penguins.groupby(group_cols)[value_cols].mean().round(2)\n",
    "\n",
    "print(summary_table(qwn, cat))"
   ]
  },
  {
   "cell_type": "markdown",
   "metadata": {},
   "source": [
    "# NOW TO PLOT!!!"
   ]
  },
  {
   "cell_type": "markdown",
   "metadata": {},
   "source": [
    "Give three examples of plotting plotly, matlab, and seaborn. "
   ]
  },
  {
   "cell_type": "code",
   "execution_count": 7,
   "metadata": {},
   "outputs": [
    {
     "name": "stderr",
     "output_type": "stream",
     "text": [
      "No artists with labels found to put in legend.  Note that artists whose label start with an underscore are ignored when legend() is called with no argument.\n"
     ]
    },
    {
     "data": {
      "text/plain": [
       "<matplotlib.legend.Legend at 0x2d9de7c0250>"
      ]
     },
     "execution_count": 7,
     "metadata": {},
     "output_type": "execute_result"
    },
    {
     "data": {
      "image/png": "[encoded data removed]",
      "text/plain": [
       "<Figure size 432x288 with 1 Axes>"
      ]
     },
     "metadata": {
      "needs_background": "light"
     },
     "output_type": "display_data"
    }
   ],
   "source": [
    "from matplotlib import pyplot as plt\n",
    "plt.scatter(x = penguins[\"Species\"], \n",
    "            y = penguins[\"Culmen Length (mm)\"])\n",
    "plt.legend()"
   ]
  },
  {
   "cell_type": "markdown",
   "metadata": {},
   "source": []
  }
 ],
 "metadata": {
  "interpreter": {
   "hash": "dfcac1030dc9d9e98f35537e9d6685e08060f6c270b2393e85d0e21a394d6624"
  },
  "kernelspec": {
   "display_name": "Python 3.8.12 64-bit ('PIC16B': conda)",
   "language": "python",
   "name": "python3"
  },
  "language_info": {
   "codemirror_mode": {
    "name": "ipython",
    "version": 3
   },
   "file_extension": ".py",
   "mimetype": "text/x-python",
   "name": "python",
   "nbconvert_exporter": "python",
   "pygments_lexer": "ipython3",
   "version": "3.8.12"
  },
  "orig_nbformat": 4
 },
 "nbformat": 4,
 "nbformat_minor": 2
}
