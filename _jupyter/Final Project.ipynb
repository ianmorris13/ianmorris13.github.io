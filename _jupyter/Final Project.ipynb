{
 "cells": [
  {
   "cell_type": "markdown",
   "id": "d46823f8",
   "metadata": {},
   "source": [
    "In this last blog post :^{, I will reflect upon this past quarters project, where it took me, and where I can improve. "
   ]
  },
  {
   "cell_type": "markdown",
   "id": "09c21d44",
   "metadata": {},
   "source": [
    "## Overall, what did you achieve in your project? "
   ]
  },
  {
   "cell_type": "markdown",
   "id": "2fd93391",
   "metadata": {},
   "source": [
    "Our project created a webapp in which a user can visualize climate and flowering data of California. This was done through an aggregation of already existing databases and alot of cleaning. And I mean like alot. Hopefully, the user can notice any trends and become familiar with what is happening within this state with both its biotic and abiotic factors."
   ]
  },
  {
   "cell_type": "markdown",
   "id": "71c39519",
   "metadata": {},
   "source": [
    "## What are two aspects of your project that you are especially proud of? "
   ]
  },
  {
   "cell_type": "markdown",
   "id": "2df794aa",
   "metadata": {},
   "source": [
    "I am especially proud of how easy I made it for the user to choose what they want to see. Many times, users are bogged down with too many choices. While this gives a sense of freedom to many users, others are not sure what they are choosing for, therefore making all choices less important. I am happy that each choice has a consequence. What they select will shape how they see this data and I hope will help inform them on this topic that is important to me and many others.\n",
    "\n",
    "Additionally, as cheesy as it sounds, I am proud of what I had learned. Though most of the code is not complicated by any means, it took me many many hours to get to this point. Anyone who codes knows that sometimes something that is actually only a few lines long may actually have taken hours upon hours. This was the case for much of this project. There are many lines that I am happy with because of how simple they are. A clean simple workspace makes me much more proud than one that is very complicated but also near impossible to follow. "
   ]
  },
  {
   "cell_type": "markdown",
   "id": "1cf6d192",
   "metadata": {},
   "source": [
    "## What are two things you would suggest doing to further improve your project? (You are not responsible for doing those things.)"
   ]
  },
  {
   "cell_type": "markdown",
   "id": "563c4430",
   "metadata": {},
   "source": [
    "I hope to do this by include more data. Much much much much much more data. With datasets this small, things can be taken with a grain of salt. However, if there is much more data, things average out can you can see real trends that are happening. Additionally, I would like to include statistics to see how things actually compare. Lastly, after I am more familiar with ecological models, I would like to apply all of this info and try to forcast the future of the flowering dates of species based on certain parameters.\n",
    "\n",
    "Another thing to note is that there are biases within iNaturalist. There is a disproportional amount of observations within high income neighborhoods, so this has skewed the data. I should find more data from other databases to offset this, because obviously mostly high-income neighborhoods are not representative of California."
   ]
  },
  {
   "cell_type": "markdown",
   "id": "305a0308",
   "metadata": {},
   "source": [
    "## How does what you achieved compare to what you set out to do in your proposal? (if you didn't complete everything in your proposal, that's fine!)"
   ]
  },
  {
   "cell_type": "markdown",
   "id": "d9f39f92",
   "metadata": {},
   "source": [
    "I did not nearly get to how much I wanted to achieve. However, that is ok because I now have a better understand of timeframes and what it really takes to acclomplish a task of this size. I wanted to be able to compare these climate trends with the flowering observation trends. I didn't do that. Instead I simply showed these trends. I hope to be able to show the correlation between flowering date and climate trends in the future."
   ]
  },
  {
   "cell_type": "markdown",
   "id": "8a0653d7",
   "metadata": {},
   "source": [
    "## What are three things you learned from the experience of completing your project? Data analysis techniques? Python packages? Git + GitHub? Etc? "
   ]
  },
  {
   "cell_type": "markdown",
   "id": "9c94d7ca",
   "metadata": {},
   "source": [
    "One thing that I found most useful to learn how to use is GeoPandas. In the ecological community, ArcGIS is the norm to visualize this data. However, running everything directly though python makes it much easier to manipulate data that you want visualized in the first place. \n",
    "Another thing that I learned that relates to the first point is data cleaning. I have found that raw data is never clean. It sucks. But with this new experience of cleaning many, many, many datasets, I am now more familiar with how most are set up, and that makes cleaning each dataset quicker each time. \n",
    "Lastly, helping us set up our github account and getting familiar with it is probably the most important thing I learned from this class. I know how often it is used in the data science community, and I am happy that I am familiar with it, making me one step closer to becoming a true scientist. "
   ]
  },
  {
   "cell_type": "markdown",
   "id": "bbc22c1c",
   "metadata": {},
   "source": [
    "## How will your experience completing this project will help you in your future studies or career? Please be as specific as possible. "
   ]
  },
  {
   "cell_type": "markdown",
   "id": "c1b9ce98",
   "metadata": {},
   "source": [
    "As I do my own research in the labs I volunteer in, I hope to apply these techniques to better interpret and visualize the data that I and my colleagues take."
   ]
  }
 ],
 "metadata": {
  "kernelspec": {
   "display_name": "Python 3 (ipykernel)",
   "language": "python",
   "name": "python3"
  },
  "language_info": {
   "codemirror_mode": {
    "name": "ipython",
    "version": 3
   },
   "file_extension": ".py",
   "mimetype": "text/x-python",
   "name": "python",
   "nbconvert_exporter": "python",
   "pygments_lexer": "ipython3",
   "version": "3.9.7"
  }
 },
 "nbformat": 4,
 "nbformat_minor": 5
}
