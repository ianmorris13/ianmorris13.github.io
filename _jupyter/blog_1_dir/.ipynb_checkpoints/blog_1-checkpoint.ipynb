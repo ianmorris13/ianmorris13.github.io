{
 "cells": [
  {
   "cell_type": "markdown",
   "metadata": {},
   "source": [
    "# Blog Post 1"
   ]
  },
  {
   "cell_type": "markdown",
   "metadata": {},
   "source": [
    "In this blog post, I will create interactiee graphics using NOAA climate data."
   ]
  },
  {
   "cell_type": "markdown",
   "metadata": {},
   "source": [
    "## 1. Data Prep - Creating a Database"
   ]
  },
  {
   "cell_type": "markdown",
   "metadata": {},
   "source": [
    "First, its easiest to import all your necessary packages"
   ]
  },
  {
   "cell_type": "code",
   "execution_count": 1,
   "metadata": {},
   "outputs": [],
   "source": [
    "import sqlite3\n",
    "import pandas as pd\n",
    "import numpy as np\n",
    "from plotly import express as px\n",
    "from sklearn.linear_model import LinearRegression"
   ]
  },
  {
   "cell_type": "markdown",
   "metadata": {},
   "source": [
    "Next, use the pandas package to turn your csvs into a dataframe that is easily manipulated."
   ]
  },
  {
   "cell_type": "code",
   "execution_count": 2,
   "metadata": {},
   "outputs": [],
   "source": [
    "temps = pd.read_csv(\"temps.csv\")\n",
    "cntry = pd.read_csv(\"countries.csv\")\n",
    "statn = pd.read_csv(\"station-metadata.csv\")"
   ]
  },
  {
   "cell_type": "markdown",
   "metadata": {},
   "source": [
    "Good data is that which is plenty and is easy to work with. We have the plenty O' data thing down now, so lets make it easy to work with :)))"
   ]
  },
  {
   "cell_type": "markdown",
   "metadata": {},
   "source": [
    "The stations' dataset can lose the \"STNELEV\" column because we have no use for it. Also we are going to create a new column called \"FIPS 10-4\" because the FIPS 10-4 code is simply the first two letters of each station's ID. We will use the FIPS 10-4 code shortly."
   ]
  },
  {
   "cell_type": "code",
   "execution_count": 3,
   "metadata": {},
   "outputs": [
    {
     "data": {
      "text/html": [
       "<div>\n",
       "<style scoped>\n",
       "    .dataframe tbody tr th:only-of-type {\n",
       "        vertical-align: middle;\n",
       "    }\n",
       "\n",
       "    .dataframe tbody tr th {\n",
       "        vertical-align: top;\n",
       "    }\n",
       "\n",
       "    .dataframe thead th {\n",
       "        text-align: right;\n",
       "    }\n",
       "</style>\n",
       "<table border=\"1\" class=\"dataframe\">\n",
       "  <thead>\n",
       "    <tr style=\"text-align: right;\">\n",
       "      <th></th>\n",
       "      <th>ID</th>\n",
       "      <th>LATITUDE</th>\n",
       "      <th>LONGITUDE</th>\n",
       "      <th>NAME</th>\n",
       "      <th>FIPS 10-4</th>\n",
       "    </tr>\n",
       "  </thead>\n",
       "  <tbody>\n",
       "    <tr>\n",
       "      <th>0</th>\n",
       "      <td>ACW00011604</td>\n",
       "      <td>57.7667</td>\n",
       "      <td>11.8667</td>\n",
       "      <td>SAVE</td>\n",
       "      <td>AC</td>\n",
       "    </tr>\n",
       "    <tr>\n",
       "      <th>1</th>\n",
       "      <td>AE000041196</td>\n",
       "      <td>25.3330</td>\n",
       "      <td>55.5170</td>\n",
       "      <td>SHARJAH_INTER_AIRP</td>\n",
       "      <td>AE</td>\n",
       "    </tr>\n",
       "    <tr>\n",
       "      <th>2</th>\n",
       "      <td>AEM00041184</td>\n",
       "      <td>25.6170</td>\n",
       "      <td>55.9330</td>\n",
       "      <td>RAS_AL_KHAIMAH_INTE</td>\n",
       "      <td>AE</td>\n",
       "    </tr>\n",
       "    <tr>\n",
       "      <th>3</th>\n",
       "      <td>AEM00041194</td>\n",
       "      <td>25.2550</td>\n",
       "      <td>55.3640</td>\n",
       "      <td>DUBAI_INTL</td>\n",
       "      <td>AE</td>\n",
       "    </tr>\n",
       "    <tr>\n",
       "      <th>4</th>\n",
       "      <td>AEM00041216</td>\n",
       "      <td>24.4300</td>\n",
       "      <td>54.4700</td>\n",
       "      <td>ABU_DHABI_BATEEN_AIR</td>\n",
       "      <td>AE</td>\n",
       "    </tr>\n",
       "    <tr>\n",
       "      <th>...</th>\n",
       "      <td>...</td>\n",
       "      <td>...</td>\n",
       "      <td>...</td>\n",
       "      <td>...</td>\n",
       "      <td>...</td>\n",
       "    </tr>\n",
       "    <tr>\n",
       "      <th>27580</th>\n",
       "      <td>ZI000067983</td>\n",
       "      <td>-20.2000</td>\n",
       "      <td>32.6160</td>\n",
       "      <td>CHIPINGE</td>\n",
       "      <td>ZI</td>\n",
       "    </tr>\n",
       "    <tr>\n",
       "      <th>27581</th>\n",
       "      <td>ZI000067991</td>\n",
       "      <td>-22.2170</td>\n",
       "      <td>30.0000</td>\n",
       "      <td>BEITBRIDGE</td>\n",
       "      <td>ZI</td>\n",
       "    </tr>\n",
       "    <tr>\n",
       "      <th>27582</th>\n",
       "      <td>ZIXLT371333</td>\n",
       "      <td>-17.8300</td>\n",
       "      <td>31.0200</td>\n",
       "      <td>HARARE_BELVEDERE</td>\n",
       "      <td>ZI</td>\n",
       "    </tr>\n",
       "    <tr>\n",
       "      <th>27583</th>\n",
       "      <td>ZIXLT443557</td>\n",
       "      <td>-18.9800</td>\n",
       "      <td>32.4500</td>\n",
       "      <td>GRAND_REEF</td>\n",
       "      <td>ZI</td>\n",
       "    </tr>\n",
       "    <tr>\n",
       "      <th>27584</th>\n",
       "      <td>ZIXLT622116</td>\n",
       "      <td>-19.4300</td>\n",
       "      <td>29.7500</td>\n",
       "      <td>GWELO</td>\n",
       "      <td>ZI</td>\n",
       "    </tr>\n",
       "  </tbody>\n",
       "</table>\n",
       "<p>27585 rows × 5 columns</p>\n",
       "</div>"
      ],
      "text/plain": [
       "                ID  LATITUDE  LONGITUDE                  NAME FIPS 10-4\n",
       "0      ACW00011604   57.7667    11.8667                  SAVE        AC\n",
       "1      AE000041196   25.3330    55.5170    SHARJAH_INTER_AIRP        AE\n",
       "2      AEM00041184   25.6170    55.9330   RAS_AL_KHAIMAH_INTE        AE\n",
       "3      AEM00041194   25.2550    55.3640            DUBAI_INTL        AE\n",
       "4      AEM00041216   24.4300    54.4700  ABU_DHABI_BATEEN_AIR        AE\n",
       "...            ...       ...        ...                   ...       ...\n",
       "27580  ZI000067983  -20.2000    32.6160              CHIPINGE        ZI\n",
       "27581  ZI000067991  -22.2170    30.0000            BEITBRIDGE        ZI\n",
       "27582  ZIXLT371333  -17.8300    31.0200      HARARE_BELVEDERE        ZI\n",
       "27583  ZIXLT443557  -18.9800    32.4500            GRAND_REEF        ZI\n",
       "27584  ZIXLT622116  -19.4300    29.7500                 GWELO        ZI\n",
       "\n",
       "[27585 rows x 5 columns]"
      ]
     },
     "execution_count": 3,
     "metadata": {},
     "output_type": "execute_result"
    }
   ],
   "source": [
    "statn = statn.drop([\"STNELEV\"], axis = 1)\n",
    "statn[\"FIPS 10-4\"] = statn[\"ID\"].str[0:2]\n",
    "statn"
   ]
  },
  {
   "cell_type": "markdown",
   "metadata": {},
   "source": [
    "Again, we drop unecessary columns and do a little renaming to make our table more clear."
   ]
  },
  {
   "cell_type": "code",
   "execution_count": 4,
   "metadata": {},
   "outputs": [
    {
     "data": {
      "text/html": [
       "<div>\n",
       "<style scoped>\n",
       "    .dataframe tbody tr th:only-of-type {\n",
       "        vertical-align: middle;\n",
       "    }\n",
       "\n",
       "    .dataframe tbody tr th {\n",
       "        vertical-align: top;\n",
       "    }\n",
       "\n",
       "    .dataframe thead th {\n",
       "        text-align: right;\n",
       "    }\n",
       "</style>\n",
       "<table border=\"1\" class=\"dataframe\">\n",
       "  <thead>\n",
       "    <tr style=\"text-align: right;\">\n",
       "      <th></th>\n",
       "      <th>FIPS 10-4</th>\n",
       "      <th>Country</th>\n",
       "    </tr>\n",
       "  </thead>\n",
       "  <tbody>\n",
       "    <tr>\n",
       "      <th>0</th>\n",
       "      <td>AF</td>\n",
       "      <td>Afghanistan</td>\n",
       "    </tr>\n",
       "    <tr>\n",
       "      <th>1</th>\n",
       "      <td>AX</td>\n",
       "      <td>Akrotiri</td>\n",
       "    </tr>\n",
       "    <tr>\n",
       "      <th>2</th>\n",
       "      <td>AL</td>\n",
       "      <td>Albania</td>\n",
       "    </tr>\n",
       "    <tr>\n",
       "      <th>3</th>\n",
       "      <td>AG</td>\n",
       "      <td>Algeria</td>\n",
       "    </tr>\n",
       "    <tr>\n",
       "      <th>4</th>\n",
       "      <td>AQ</td>\n",
       "      <td>American Samoa</td>\n",
       "    </tr>\n",
       "    <tr>\n",
       "      <th>...</th>\n",
       "      <td>...</td>\n",
       "      <td>...</td>\n",
       "    </tr>\n",
       "    <tr>\n",
       "      <th>274</th>\n",
       "      <td>-</td>\n",
       "      <td>World</td>\n",
       "    </tr>\n",
       "    <tr>\n",
       "      <th>275</th>\n",
       "      <td>YM</td>\n",
       "      <td>Yemen</td>\n",
       "    </tr>\n",
       "    <tr>\n",
       "      <th>276</th>\n",
       "      <td>-</td>\n",
       "      <td>Zaire</td>\n",
       "    </tr>\n",
       "    <tr>\n",
       "      <th>277</th>\n",
       "      <td>ZA</td>\n",
       "      <td>Zambia</td>\n",
       "    </tr>\n",
       "    <tr>\n",
       "      <th>278</th>\n",
       "      <td>ZI</td>\n",
       "      <td>Zimbabwe</td>\n",
       "    </tr>\n",
       "  </tbody>\n",
       "</table>\n",
       "<p>279 rows × 2 columns</p>\n",
       "</div>"
      ],
      "text/plain": [
       "    FIPS 10-4         Country\n",
       "0          AF     Afghanistan\n",
       "1          AX        Akrotiri\n",
       "2          AL         Albania\n",
       "3          AG         Algeria\n",
       "4          AQ  American Samoa\n",
       "..        ...             ...\n",
       "274         -           World\n",
       "275        YM           Yemen\n",
       "276         -           Zaire\n",
       "277        ZA          Zambia\n",
       "278        ZI        Zimbabwe\n",
       "\n",
       "[279 rows x 2 columns]"
      ]
     },
     "execution_count": 4,
     "metadata": {},
     "output_type": "execute_result"
    }
   ],
   "source": [
    "cntry = cntry.drop([\"ISO 3166\"], axis = 1)\n",
    "cntry = cntry.rename(columns = {\"Name\"  : \"Country\"})\n",
    "cntry"
   ]
  },
  {
   "cell_type": "markdown",
   "metadata": {},
   "source": [
    "The Temps dataset has a little more involved procedure called stacking, so I would rather comment the code step by step below."
   ]
  },
  {
   "cell_type": "code",
   "execution_count": 5,
   "metadata": {},
   "outputs": [
    {
     "data": {
      "text/html": [
       "<div>\n",
       "<style scoped>\n",
       "    .dataframe tbody tr th:only-of-type {\n",
       "        vertical-align: middle;\n",
       "    }\n",
       "\n",
       "    .dataframe tbody tr th {\n",
       "        vertical-align: top;\n",
       "    }\n",
       "\n",
       "    .dataframe thead th {\n",
       "        text-align: right;\n",
       "    }\n",
       "</style>\n",
       "<table border=\"1\" class=\"dataframe\">\n",
       "  <thead>\n",
       "    <tr style=\"text-align: right;\">\n",
       "      <th></th>\n",
       "      <th>ID</th>\n",
       "      <th>Year</th>\n",
       "      <th>Month</th>\n",
       "      <th>Temp</th>\n",
       "    </tr>\n",
       "  </thead>\n",
       "  <tbody>\n",
       "    <tr>\n",
       "      <th>0</th>\n",
       "      <td>ACW00011604</td>\n",
       "      <td>1961</td>\n",
       "      <td>1</td>\n",
       "      <td>-0.89</td>\n",
       "    </tr>\n",
       "    <tr>\n",
       "      <th>1</th>\n",
       "      <td>ACW00011604</td>\n",
       "      <td>1961</td>\n",
       "      <td>2</td>\n",
       "      <td>2.36</td>\n",
       "    </tr>\n",
       "    <tr>\n",
       "      <th>2</th>\n",
       "      <td>ACW00011604</td>\n",
       "      <td>1961</td>\n",
       "      <td>3</td>\n",
       "      <td>4.72</td>\n",
       "    </tr>\n",
       "    <tr>\n",
       "      <th>3</th>\n",
       "      <td>ACW00011604</td>\n",
       "      <td>1961</td>\n",
       "      <td>4</td>\n",
       "      <td>7.73</td>\n",
       "    </tr>\n",
       "    <tr>\n",
       "      <th>4</th>\n",
       "      <td>ACW00011604</td>\n",
       "      <td>1961</td>\n",
       "      <td>5</td>\n",
       "      <td>11.28</td>\n",
       "    </tr>\n",
       "    <tr>\n",
       "      <th>...</th>\n",
       "      <td>...</td>\n",
       "      <td>...</td>\n",
       "      <td>...</td>\n",
       "      <td>...</td>\n",
       "    </tr>\n",
       "    <tr>\n",
       "      <th>13992657</th>\n",
       "      <td>ZIXLT622116</td>\n",
       "      <td>1970</td>\n",
       "      <td>8</td>\n",
       "      <td>15.40</td>\n",
       "    </tr>\n",
       "    <tr>\n",
       "      <th>13992658</th>\n",
       "      <td>ZIXLT622116</td>\n",
       "      <td>1970</td>\n",
       "      <td>9</td>\n",
       "      <td>20.40</td>\n",
       "    </tr>\n",
       "    <tr>\n",
       "      <th>13992659</th>\n",
       "      <td>ZIXLT622116</td>\n",
       "      <td>1970</td>\n",
       "      <td>10</td>\n",
       "      <td>20.30</td>\n",
       "    </tr>\n",
       "    <tr>\n",
       "      <th>13992660</th>\n",
       "      <td>ZIXLT622116</td>\n",
       "      <td>1970</td>\n",
       "      <td>11</td>\n",
       "      <td>21.30</td>\n",
       "    </tr>\n",
       "    <tr>\n",
       "      <th>13992661</th>\n",
       "      <td>ZIXLT622116</td>\n",
       "      <td>1970</td>\n",
       "      <td>12</td>\n",
       "      <td>21.50</td>\n",
       "    </tr>\n",
       "  </tbody>\n",
       "</table>\n",
       "<p>13992662 rows × 4 columns</p>\n",
       "</div>"
      ],
      "text/plain": [
       "                   ID  Year  Month   Temp\n",
       "0         ACW00011604  1961      1  -0.89\n",
       "1         ACW00011604  1961      2   2.36\n",
       "2         ACW00011604  1961      3   4.72\n",
       "3         ACW00011604  1961      4   7.73\n",
       "4         ACW00011604  1961      5  11.28\n",
       "...               ...   ...    ...    ...\n",
       "13992657  ZIXLT622116  1970      8  15.40\n",
       "13992658  ZIXLT622116  1970      9  20.40\n",
       "13992659  ZIXLT622116  1970     10  20.30\n",
       "13992660  ZIXLT622116  1970     11  21.30\n",
       "13992661  ZIXLT622116  1970     12  21.50\n",
       "\n",
       "[13992662 rows x 4 columns]"
      ]
     },
     "execution_count": 5,
     "metadata": {},
     "output_type": "execute_result"
    }
   ],
   "source": [
    "# Stacking makes data visualization easy and logical\n",
    "\n",
    "#first we seperate any Columns that would not stack well\n",
    "#we choose ID so all of IDs are placed nicely together\n",
    "#we choose Year to order them chronologically\n",
    "temps = temps.set_index(keys=[\"ID\", \"Year\"])\n",
    "temps = temps.stack()\n",
    "\n",
    "#this will recover Month and Temp columns, making them nice and neat\n",
    "temps = temps.reset_index()\n",
    "\n",
    "#some renaming and cleaning up to make more legible\n",
    "temps = temps.rename(columns = {\"level_2\"  : \"Month\" , 0 : \"Temp\"})\n",
    "temps[\"Month\"] = temps[\"Month\"].str[5:].astype(int)\n",
    "temps[\"Temp\"] = temps[\"Temp\"] / 100\n",
    "temps"
   ]
  },
  {
   "cell_type": "markdown",
   "metadata": {},
   "source": [
    "TA-DAA we now have three clean dataframes! \n",
    "Now... we upload into the mainframe"
   ]
  },
  {
   "cell_type": "markdown",
   "metadata": {},
   "source": [
    "Ok well not actually, but we will create our own SQL database to upload our three dataframes for easy and quicker acess."
   ]
  },
  {
   "cell_type": "code",
   "execution_count": 6,
   "metadata": {},
   "outputs": [
    {
     "name": "stderr",
     "output_type": "stream",
     "text": [
      "C:\\Anaconda3\\lib\\site-packages\\pandas\\core\\generic.py:2872: UserWarning: The spaces in these column names will not be changed. In pandas versions < 0.14, spaces were converted to underscores.\n",
      "  sql.to_sql(\n"
     ]
    }
   ],
   "source": [
    "#this line creates an SQL database that is much easier to index\n",
    "conn = sqlite3.connect(\"NOAA.db\")\n",
    "\n",
    "#following lines upload our dataframes, one at a time.\n",
    "cntry.to_sql(\"countries\", conn, if_exists='append', index=False)\n",
    "temps.to_sql(\"temperatures\", conn, if_exists='append', index=False)\n",
    "statn.to_sql(\"stations\", conn, if_exists='append', index=False)"
   ]
  },
  {
   "cell_type": "markdown",
   "metadata": {},
   "source": [
    "Alright, now to check that our data is there..."
   ]
  },
  {
   "cell_type": "code",
   "execution_count": 7,
   "metadata": {},
   "outputs": [
    {
     "name": "stdout",
     "output_type": "stream",
     "text": [
      "[('countries',), ('temperatures',), ('stations',)]\n"
     ]
    }
   ],
   "source": [
    "cursor = conn.cursor()\n",
    "cursor.execute(\"SELECT name FROM sqlite_master WHERE type='table'\")\n",
    "print(cursor.fetchall())"
   ]
  },
  {
   "cell_type": "markdown",
   "metadata": {},
   "source": [
    "Great! It seems our databases have turned into three seperate tables within our database!\n",
    "Now just close off the connection for safety's sake."
   ]
  },
  {
   "cell_type": "code",
   "execution_count": 8,
   "metadata": {},
   "outputs": [],
   "source": [
    "conn.close()"
   ]
  },
  {
   "cell_type": "markdown",
   "metadata": {},
   "source": [
    "## 2. Writing A Query Function"
   ]
  },
  {
   "cell_type": "markdown",
   "metadata": {},
   "source": [
    "Now to write a query function for our data.\n",
    "This function will return pandas dataframe of temperature readings for the specified country, in the specified date range, in the specified month of the year."
   ]
  },
  {
   "cell_type": "code",
   "execution_count": 9,
   "metadata": {},
   "outputs": [],
   "source": [
    "def query_climate_database(country, year_begin, year_end, month):\n",
    "    '''\n",
    "    This function will return pandas dataframe of temperature readings for the \n",
    "    specified country, in the specified date range, in the specified month of the year.\n",
    "    \n",
    "    @param country: a string giving the name of a country for which data should be returned\n",
    "    @param year_begin and year_end: two integers giving the earliest and latest years for \n",
    "                                    which should be returned\n",
    "    @param month: an integer giving the month of the year for which should be returned\n",
    "    \n",
    "    return joined: a Pandas dataframe of temperature readings for the specified country, \n",
    "                   in the specified date range, in the specified month of the year. \n",
    "    '''\n",
    "    \n",
    "    conn = sqlite3.connect(\"NOAA.db\")\n",
    "    cursor = conn.cursor() \n",
    "    \n",
    "    #we use sqlite to join all of the important columns of our tables together using\n",
    "    #the constant columns id and FIPS 10-4 (see I told you we'd use it soon.)\n",
    "    cmd = \\\n",
    "    \"\"\"\n",
    "    SELECT S.NAME, S.LATITUDE, S.LONGITUDE, C.Country, T.Year, T.Month, T.Temp\n",
    "    FROM stations S\n",
    "    LEFT JOIN temperatures T on S.ID = T.ID, countries C on C.'FIPS 10-4' = S.'FIPS 10-4'\n",
    "    WHERE C.Country = '{0}' AND T.Year>= {1} AND T.Year<= {2} AND T.Month = {3}\n",
    "    \"\"\"\n",
    "    cmd = cmd.format(country, year_begin, year_end, month)\n",
    "    joined = pd.read_sql_query(cmd, conn)\n",
    "    conn.close()\n",
    "    return query_climate_database\n"
   ]
  },
  {
   "cell_type": "markdown",
   "metadata": {},
   "source": [
    "As you can see, our function works perfectly!"
   ]
  },
  {
   "cell_type": "code",
   "execution_count": 10,
   "metadata": {},
   "outputs": [
    {
     "data": {
      "text/plain": [
       "<function __main__.query_climate_database(country, year_begin, year_end, month)>"
      ]
     },
     "execution_count": 10,
     "metadata": {},
     "output_type": "execute_result"
    }
   ],
   "source": [
    "query_climate_database(country = \"India\", \n",
    "                       year_begin = 1980, \n",
    "                       year_end = 2020,\n",
    "                       month = 1)"
   ]
  },
  {
   "cell_type": "markdown",
   "metadata": {},
   "source": [
    "## 3. Write a Geographic Scatter Function for Yearly Temperature Increases"
   ]
  },
  {
   "cell_type": "markdown",
   "metadata": {},
   "source": [
    "Now we want to find the year-over-year average change in temperature. How can we do that you ask? A little mathmatical model called Linear Regression"
   ]
  },
  {
   "cell_type": "code",
   "execution_count": 11,
   "metadata": {},
   "outputs": [],
   "source": [
    "def coef(data_group):\n",
    "    '''\n",
    "    We are going to use this function to model a regression of the change in temperature \n",
    "    against the years to find a coefficient over the yearly change in temperature.\n",
    "    \n",
    "    @param data_group: the group of data that you want to model your regression after\n",
    "    \n",
    "    return LR.coef_[0]: the coefficient of regression\n",
    "    '''\n",
    "    x = data_group[[\"Year\"]] # 2 brackets because X should be a df\n",
    "    y = data_group[\"Temp\"]   # 1 bracket because y should be a series\n",
    "    LR = LinearRegression()\n",
    "    LR.fit(x, y)\n",
    "    return LR.coef_[0]"
   ]
  },
  {
   "cell_type": "markdown",
   "metadata": {},
   "source": [
    "We are going to incorporate the coefficients with the original queried dataframe in a function that will soon create a nice pretty picture... Just follow my comments and I'll explain."
   ]
  },
  {
   "cell_type": "code",
   "execution_count": 17,
   "metadata": {},
   "outputs": [],
   "source": [
    "def temperature_coefficient_plot(country, year_begin, year_end, month, min_obs, **kwargs):\n",
    "    '''\n",
    "    This function will create an interactive geographic scatterplot, \n",
    "    constructed using Plotly Express, with a point for each station, \n",
    "    such that the color of the point reflects an estimate of the yearly \n",
    "    change in temperature during the specified month and time period at that station\n",
    "    \n",
    "    @param country: a string giving the name of a country for which data should be returned\n",
    "    @param year_begin and year_end: two integers giving the earliest and latest years for \n",
    "                                    which should be returned\n",
    "    @param month: an integer giving the month of the year for which should be returned\n",
    "    @param min_obs: an integer stating the minimum required number of years of data \n",
    "                    for any given station\n",
    "    @param **kwargs: additional keyword arguments passed to px.scatter_mapbox()                \n",
    "    \n",
    "    return a plotly express scatterplot of user specified variables. \n",
    "    '''\n",
    "    \n",
    "    #creates a queried database of the specified variables (so computer mustn't parse through all)\n",
    "    queri = query_climate_database(country, year_begin, year_end, month)\n",
    "    \n",
    "    #will create a new dataframe will the coeficcients of each station over the years\n",
    "    coefs = queri.groupby([\"NAME\", \"Month\"]).apply(coef)\n",
    "    coefs = coefs.reset_index()\n",
    "    coefs = coefs.rename(columns = {0  : \"Estimated Yearly Increase (℃)\"})\n",
    "    coefs[\"Estimated Yearly Increase (℃)\"] = round(coefs[\"Estimated Yearly Increase (℃)\"], 5)\n",
    "    \n",
    "    #merges the two together to be easily plottable\n",
    "    queri = pd.merge(queri, coefs, on=['NAME','Month'])\n",
    "    \n",
    "    #makes sure that Only data for stations with at least min_obs years worth of data \n",
    "    #in the specified month should be plotted; the others should be filtered out.\n",
    "    queri = queri.groupby('NAME').filter(lambda x: len(x) >= min_obs)\n",
    "    \n",
    "    #a dictionary to easily change title based on user inputted variables\n",
    "    monthDict = {1:'Janauary',\n",
    "                 2:'February',\n",
    "                 3:'March',\n",
    "                 4:'April',\n",
    "                 5:'May',\n",
    "                 6:'June',\n",
    "                 7:'July',\n",
    "                 8:'August',\n",
    "                 9:'September',\n",
    "                10:'October',\n",
    "                11:'November',\n",
    "                12:'December'}\n",
    "    \n",
    "    #title prompt for the plot    \n",
    "    title = \"Estimates of yearly increase in temperature in {} for stations in {}, years {} - {}\"\n",
    "    #updating with user inputted variables\n",
    "    title = title.format(monthDict[month], country, year_begin, year_end)\n",
    "    \n",
    "    #plot\n",
    "    return px.scatter_mapbox(queri, \n",
    "                            lon=\"LONGITUDE\",\n",
    "                            lat=\"LATITUDE\",\n",
    "                            color=\"Estimated Yearly Increase (℃)\", # which column to use to set the color of markers\n",
    "                            hover_name=\"NAME\", # column added to hover information\n",
    "                            title = title,\n",
    "                            **kwargs)"
   ]
  },
  {
   "cell_type": "markdown",
   "metadata": {},
   "source": [
    "Now if we did it right it should work..."
   ]
  },
  {
   "cell_type": "code",
   "execution_count": 18,
   "metadata": {},
   "outputs": [
    {
     "ename": "AttributeError",
     "evalue": "'function' object has no attribute 'groupby'",
     "output_type": "error",
     "traceback": [
      "\u001b[1;31m---------------------------------------------------------------------------\u001b[0m",
      "\u001b[1;31mAttributeError\u001b[0m                            Traceback (most recent call last)",
      "\u001b[1;32m~\\AppData\\Local\\Temp/ipykernel_7504/2085599406.py\u001b[0m in \u001b[0;36m<module>\u001b[1;34m\u001b[0m\n\u001b[0;32m      1\u001b[0m \u001b[0mcolor_map\u001b[0m \u001b[1;33m=\u001b[0m \u001b[0mpx\u001b[0m\u001b[1;33m.\u001b[0m\u001b[0mcolors\u001b[0m\u001b[1;33m.\u001b[0m\u001b[0mdiverging\u001b[0m\u001b[1;33m.\u001b[0m\u001b[0mRdGy_r\u001b[0m \u001b[1;31m# choose a colormap\u001b[0m\u001b[1;33m\u001b[0m\u001b[1;33m\u001b[0m\u001b[0m\n\u001b[0;32m      2\u001b[0m \u001b[1;33m\u001b[0m\u001b[0m\n\u001b[1;32m----> 3\u001b[1;33m fig = temperature_coefficient_plot(\"India\", 1980, 2020, 1, \n\u001b[0m\u001b[0;32m      4\u001b[0m                                    \u001b[0mmin_obs\u001b[0m \u001b[1;33m=\u001b[0m \u001b[1;36m10\u001b[0m\u001b[1;33m,\u001b[0m\u001b[1;33m\u001b[0m\u001b[1;33m\u001b[0m\u001b[0m\n\u001b[0;32m      5\u001b[0m                                    \u001b[0mzoom\u001b[0m \u001b[1;33m=\u001b[0m \u001b[1;36m2\u001b[0m\u001b[1;33m,\u001b[0m\u001b[1;33m\u001b[0m\u001b[1;33m\u001b[0m\u001b[0m\n",
      "\u001b[1;32m~\\AppData\\Local\\Temp/ipykernel_7504/2005495322.py\u001b[0m in \u001b[0;36mtemperature_coefficient_plot\u001b[1;34m(country, year_begin, year_end, month, min_obs, **kwargs)\u001b[0m\n\u001b[0;32m      3\u001b[0m     \u001b[0mqueri\u001b[0m \u001b[1;33m=\u001b[0m \u001b[0mquery_climate_database\u001b[0m\u001b[1;33m(\u001b[0m\u001b[0mcountry\u001b[0m\u001b[1;33m,\u001b[0m \u001b[0myear_begin\u001b[0m\u001b[1;33m,\u001b[0m \u001b[0myear_end\u001b[0m\u001b[1;33m,\u001b[0m \u001b[0mmonth\u001b[0m\u001b[1;33m)\u001b[0m\u001b[1;33m\u001b[0m\u001b[1;33m\u001b[0m\u001b[0m\n\u001b[0;32m      4\u001b[0m \u001b[1;33m\u001b[0m\u001b[0m\n\u001b[1;32m----> 5\u001b[1;33m     \u001b[0mcoefs\u001b[0m \u001b[1;33m=\u001b[0m \u001b[0mqueri\u001b[0m\u001b[1;33m.\u001b[0m\u001b[0mgroupby\u001b[0m\u001b[1;33m(\u001b[0m\u001b[1;33m[\u001b[0m\u001b[1;34m\"NAME\"\u001b[0m\u001b[1;33m,\u001b[0m \u001b[1;34m\"Month\"\u001b[0m\u001b[1;33m]\u001b[0m\u001b[1;33m)\u001b[0m\u001b[1;33m.\u001b[0m\u001b[0mapply\u001b[0m\u001b[1;33m(\u001b[0m\u001b[0mcoef\u001b[0m\u001b[1;33m)\u001b[0m\u001b[1;33m\u001b[0m\u001b[1;33m\u001b[0m\u001b[0m\n\u001b[0m\u001b[0;32m      6\u001b[0m     \u001b[0mcoefs\u001b[0m \u001b[1;33m=\u001b[0m \u001b[0mcoefs\u001b[0m\u001b[1;33m.\u001b[0m\u001b[0mreset_index\u001b[0m\u001b[1;33m(\u001b[0m\u001b[1;33m)\u001b[0m\u001b[1;33m\u001b[0m\u001b[1;33m\u001b[0m\u001b[0m\n\u001b[0;32m      7\u001b[0m     \u001b[0mcoefs\u001b[0m \u001b[1;33m=\u001b[0m \u001b[0mcoefs\u001b[0m\u001b[1;33m.\u001b[0m\u001b[0mrename\u001b[0m\u001b[1;33m(\u001b[0m\u001b[0mcolumns\u001b[0m \u001b[1;33m=\u001b[0m \u001b[1;33m{\u001b[0m\u001b[1;36m0\u001b[0m  \u001b[1;33m:\u001b[0m \u001b[1;34m\"Estimated Yearly Increase (℃)\"\u001b[0m\u001b[1;33m}\u001b[0m\u001b[1;33m)\u001b[0m\u001b[1;33m\u001b[0m\u001b[1;33m\u001b[0m\u001b[0m\n",
      "\u001b[1;31mAttributeError\u001b[0m: 'function' object has no attribute 'groupby'"
     ]
    }
   ],
   "source": [
    "color_map = px.colors.diverging.RdGy_r # choose a colormap\n",
    "\n",
    "fig = temperature_coefficient_plot(\"India\", 1980, 2020, 1, \n",
    "                                   min_obs = 10,\n",
    "                                   zoom = 2,\n",
    "                                   mapbox_style=\"carto-positron\",\n",
    "                                   color_continuous_scale=color_map)\n",
    "\n",
    "fig.show()"
   ]
  },
  {
   "cell_type": "markdown",
   "metadata": {},
   "source": [
    "Look at that! Our own interactive map!!"
   ]
  }
 ],
 "metadata": {
  "interpreter": {
   "hash": "dfcac1030dc9d9e98f35537e9d6685e08060f6c270b2393e85d0e21a394d6624"
  },
  "kernelspec": {
   "display_name": "Python 3 (ipykernel)",
   "language": "python",
   "name": "python3"
  },
  "language_info": {
   "codemirror_mode": {
    "name": "ipython",
    "version": 3
   },
   "file_extension": ".py",
   "mimetype": "text/x-python",
   "name": "python",
   "nbconvert_exporter": "python",
   "pygments_lexer": "ipython3",
   "version": "3.9.7"
  }
 },
 "nbformat": 4,
 "nbformat_minor": 2
}
